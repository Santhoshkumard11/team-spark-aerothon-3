{
  "nbformat": 4,
  "nbformat_minor": 0,
  "metadata": {
    "colab": {
      "name": "Multi_Label_new.ipynb",
      "provenance": []
    },
    "kernelspec": {
      "name": "python3",
      "display_name": "Python 3"
    },
    "accelerator": "GPU"
  },
  "cells": [
    {
      "cell_type": "markdown",
      "metadata": {
        "id": "opfljCwUWcR_"
      },
      "source": [
        "# Multi-Label Text Classification"
      ]
    },
    {
      "cell_type": "code",
      "metadata": {
        "id": "k11H4RZnWNsl"
      },
      "source": [
        "import pandas as pd\n",
        "import numpy as np"
      ],
      "execution_count": 1,
      "outputs": []
    },
    {
      "cell_type": "code",
      "metadata": {
        "colab": {
          "base_uri": "https://localhost:8080/"
        },
        "id": "9jbpzLqqV6g_",
        "outputId": "3cb791b5-afaf-4802-f2e0-ed71c17ccb69"
      },
      "source": [
        "!pip install requests\n",
        "import requests\n",
        "\n",
        "req = requests.get('https://raw.githubusercontent.com/laxmimerit/All-CSV-ML-Data-Files-Download/master/stackoverflow.csv')\n",
        "url_content = req.content\n",
        "csv_file = open('/content/downloaded.csv', 'wb')"
      ],
      "execution_count": 2,
      "outputs": [
        {
          "output_type": "stream",
          "text": [
            "Requirement already satisfied: requests in /usr/local/lib/python3.7/dist-packages (2.23.0)\n",
            "Requirement already satisfied: urllib3!=1.25.0,!=1.25.1,<1.26,>=1.21.1 in /usr/local/lib/python3.7/dist-packages (from requests) (1.24.3)\n",
            "Requirement already satisfied: idna<3,>=2.5 in /usr/local/lib/python3.7/dist-packages (from requests) (2.10)\n",
            "Requirement already satisfied: chardet<4,>=3.0.2 in /usr/local/lib/python3.7/dist-packages (from requests) (3.0.4)\n",
            "Requirement already satisfied: certifi>=2017.4.17 in /usr/local/lib/python3.7/dist-packages (from requests) (2020.12.5)\n"
          ],
          "name": "stdout"
        }
      ]
    },
    {
      "cell_type": "code",
      "metadata": {
        "id": "QCseTMh2YrGd"
      },
      "source": [
        "from sklearn.feature_extraction.text import TfidfVectorizer\n",
        "from sklearn.preprocessing import MultiLabelBinarizer\n",
        "from sklearn.model_selection import train_test_split\n",
        "\n",
        "from sklearn.linear_model import SGDClassifier\n",
        "from sklearn.linear_model import LogisticRegression\n",
        "from sklearn.svm import LinearSVC\n",
        "\n",
        "from sklearn.multiclass import OneVsRestClassifier"
      ],
      "execution_count": 3,
      "outputs": []
    },
    {
      "cell_type": "code",
      "metadata": {
        "id": "XRvA2ziTKJC_"
      },
      "source": [
        "import matplotlib.pyplot as plt\n",
        "import tensorflow as tf\n",
        "import seaborn as sns\n",
        "import pickle\n",
        "import random"
      ],
      "execution_count": 4,
      "outputs": []
    },
    {
      "cell_type": "code",
      "metadata": {
        "id": "KzsNMlmDWkLo"
      },
      "source": [
        "df = pd.read_csv('/content/Bugs1.csv',index_col=0)"
      ],
      "execution_count": 23,
      "outputs": []
    },
    {
      "cell_type": "code",
      "metadata": {
        "id": "MMfpoPOKWtWP",
        "colab": {
          "base_uri": "https://localhost:8080/",
          "height": 204
        },
        "outputId": "b1145c38-5ccb-42b2-d9ca-df74ddf13a39"
      },
      "source": [
        "df.head()"
      ],
      "execution_count": 24,
      "outputs": [
        {
          "output_type": "execute_result",
          "data": {
            "text/html": [
              "<div>\n",
              "<style scoped>\n",
              "    .dataframe tbody tr th:only-of-type {\n",
              "        vertical-align: middle;\n",
              "    }\n",
              "\n",
              "    .dataframe tbody tr th {\n",
              "        vertical-align: top;\n",
              "    }\n",
              "\n",
              "    .dataframe thead th {\n",
              "        text-align: right;\n",
              "    }\n",
              "</style>\n",
              "<table border=\"1\" class=\"dataframe\">\n",
              "  <thead>\n",
              "    <tr style=\"text-align: right;\">\n",
              "      <th></th>\n",
              "      <th>Text</th>\n",
              "      <th>Tags</th>\n",
              "    </tr>\n",
              "  </thead>\n",
              "  <tbody>\n",
              "    <tr>\n",
              "      <th>1</th>\n",
              "      <td>My payment got failed many times when tried to...</td>\n",
              "      <td>['Payment Failure', 'Severity High']</td>\n",
              "    </tr>\n",
              "    <tr>\n",
              "      <th>2</th>\n",
              "      <td>My screen is getting struck</td>\n",
              "      <td>['UX/UI', 'Severity Low']</td>\n",
              "    </tr>\n",
              "    <tr>\n",
              "      <th>3</th>\n",
              "      <td>could not complete payment process</td>\n",
              "      <td>['Payment Failure', 'Severity Low']</td>\n",
              "    </tr>\n",
              "    <tr>\n",
              "      <th>4</th>\n",
              "      <td>Could not create login id</td>\n",
              "      <td>['Login Failure' ,'Severity Low']</td>\n",
              "    </tr>\n",
              "    <tr>\n",
              "      <th>5</th>\n",
              "      <td>Failed to create login id many times</td>\n",
              "      <td>['Login Failure', 'Severity High']</td>\n",
              "    </tr>\n",
              "  </tbody>\n",
              "</table>\n",
              "</div>"
            ],
            "text/plain": [
              "                                                Text                                  Tags\n",
              "1  My payment got failed many times when tried to...  ['Payment Failure', 'Severity High']\n",
              "2                        My screen is getting struck             ['UX/UI', 'Severity Low']\n",
              "3                could not complete payment process    ['Payment Failure', 'Severity Low']\n",
              "4                          Could not create login id     ['Login Failure' ,'Severity Low']\n",
              "5               Failed to create login id many times    ['Login Failure', 'Severity High']"
            ]
          },
          "metadata": {
            "tags": []
          },
          "execution_count": 24
        }
      ]
    },
    {
      "cell_type": "code",
      "metadata": {
        "id": "qX9JSto8W5Ow",
        "colab": {
          "base_uri": "https://localhost:8080/"
        },
        "outputId": "20969f00-61a1-4e15-ba06-8286eb37a79e"
      },
      "source": [
        "type(df['Tags'].iloc[0])"
      ],
      "execution_count": 25,
      "outputs": [
        {
          "output_type": "execute_result",
          "data": {
            "text/plain": [
              "str"
            ]
          },
          "metadata": {
            "tags": []
          },
          "execution_count": 25
        }
      ]
    },
    {
      "cell_type": "code",
      "metadata": {
        "id": "U0TtipMEXp0u"
      },
      "source": [
        "import ast"
      ],
      "execution_count": 26,
      "outputs": []
    },
    {
      "cell_type": "code",
      "metadata": {
        "id": "6QGLqMqEX4BI",
        "colab": {
          "base_uri": "https://localhost:8080/",
          "height": 35
        },
        "outputId": "9938f98c-80eb-49d0-e12f-38a6234fe62e"
      },
      "source": [
        "df['Tags'].iloc[0]"
      ],
      "execution_count": 27,
      "outputs": [
        {
          "output_type": "execute_result",
          "data": {
            "application/vnd.google.colaboratory.intrinsic+json": {
              "type": "string"
            },
            "text/plain": [
              "\"['Payment Failure', 'Severity High']\""
            ]
          },
          "metadata": {
            "tags": []
          },
          "execution_count": 27
        }
      ]
    },
    {
      "cell_type": "code",
      "metadata": {
        "id": "C3nhefdAXw1G",
        "colab": {
          "base_uri": "https://localhost:8080/"
        },
        "outputId": "b08d5eef-75a0-4e74-ec55-bb1731ff028f"
      },
      "source": [
        "ast.literal_eval(df['Tags'].iloc[0])"
      ],
      "execution_count": 28,
      "outputs": [
        {
          "output_type": "execute_result",
          "data": {
            "text/plain": [
              "['Payment Failure', 'Severity High']"
            ]
          },
          "metadata": {
            "tags": []
          },
          "execution_count": 28
        }
      ]
    },
    {
      "cell_type": "code",
      "metadata": {
        "id": "t0k6MitFX2VV"
      },
      "source": [
        "df['Tags'] = df['Tags'].apply(lambda x: ast.literal_eval(x))"
      ],
      "execution_count": 29,
      "outputs": []
    },
    {
      "cell_type": "code",
      "metadata": {
        "id": "zm1H2o-6YKlg",
        "colab": {
          "base_uri": "https://localhost:8080/",
          "height": 204
        },
        "outputId": "02a04676-cf00-4164-c23d-bd8e82edcbb6"
      },
      "source": [
        "df.head()"
      ],
      "execution_count": 30,
      "outputs": [
        {
          "output_type": "execute_result",
          "data": {
            "text/html": [
              "<div>\n",
              "<style scoped>\n",
              "    .dataframe tbody tr th:only-of-type {\n",
              "        vertical-align: middle;\n",
              "    }\n",
              "\n",
              "    .dataframe tbody tr th {\n",
              "        vertical-align: top;\n",
              "    }\n",
              "\n",
              "    .dataframe thead th {\n",
              "        text-align: right;\n",
              "    }\n",
              "</style>\n",
              "<table border=\"1\" class=\"dataframe\">\n",
              "  <thead>\n",
              "    <tr style=\"text-align: right;\">\n",
              "      <th></th>\n",
              "      <th>Text</th>\n",
              "      <th>Tags</th>\n",
              "    </tr>\n",
              "  </thead>\n",
              "  <tbody>\n",
              "    <tr>\n",
              "      <th>1</th>\n",
              "      <td>My payment got failed many times when tried to...</td>\n",
              "      <td>[Payment Failure, Severity High]</td>\n",
              "    </tr>\n",
              "    <tr>\n",
              "      <th>2</th>\n",
              "      <td>My screen is getting struck</td>\n",
              "      <td>[UX/UI, Severity Low]</td>\n",
              "    </tr>\n",
              "    <tr>\n",
              "      <th>3</th>\n",
              "      <td>could not complete payment process</td>\n",
              "      <td>[Payment Failure, Severity Low]</td>\n",
              "    </tr>\n",
              "    <tr>\n",
              "      <th>4</th>\n",
              "      <td>Could not create login id</td>\n",
              "      <td>[Login Failure, Severity Low]</td>\n",
              "    </tr>\n",
              "    <tr>\n",
              "      <th>5</th>\n",
              "      <td>Failed to create login id many times</td>\n",
              "      <td>[Login Failure, Severity High]</td>\n",
              "    </tr>\n",
              "  </tbody>\n",
              "</table>\n",
              "</div>"
            ],
            "text/plain": [
              "                                                Text                              Tags\n",
              "1  My payment got failed many times when tried to...  [Payment Failure, Severity High]\n",
              "2                        My screen is getting struck             [UX/UI, Severity Low]\n",
              "3                could not complete payment process    [Payment Failure, Severity Low]\n",
              "4                          Could not create login id     [Login Failure, Severity Low]\n",
              "5               Failed to create login id many times    [Login Failure, Severity High]"
            ]
          },
          "metadata": {
            "tags": []
          },
          "execution_count": 30
        }
      ]
    },
    {
      "cell_type": "code",
      "metadata": {
        "id": "Nx-dp1eDYM1w",
        "colab": {
          "base_uri": "https://localhost:8080/"
        },
        "outputId": "4f17a94d-a03e-4343-dde6-dd2ca89ca87a"
      },
      "source": [
        "y = df['Tags']\n",
        "y"
      ],
      "execution_count": 31,
      "outputs": [
        {
          "output_type": "execute_result",
          "data": {
            "text/plain": [
              "1     [Payment Failure, Severity High]\n",
              "2                [UX/UI, Severity Low]\n",
              "3      [Payment Failure, Severity Low]\n",
              "4        [Login Failure, Severity Low]\n",
              "5       [Login Failure, Severity High]\n",
              "                    ...               \n",
              "60     [Payment Failure, Severity Low]\n",
              "61     [Password error, Severity High]\n",
              "62      [Login Failure, Severity High]\n",
              "63               [UX/UI, Severity Low]\n",
              "64    [Payment Failure, Severity High]\n",
              "Name: Tags, Length: 64, dtype: object"
            ]
          },
          "metadata": {
            "tags": []
          },
          "execution_count": 31
        }
      ]
    },
    {
      "cell_type": "code",
      "metadata": {
        "id": "YgmJ6EABZUkq"
      },
      "source": [
        "multilabel = MultiLabelBinarizer()"
      ],
      "execution_count": 32,
      "outputs": []
    },
    {
      "cell_type": "code",
      "metadata": {
        "id": "xDVWON_1ZUqW"
      },
      "source": [
        "y = multilabel.fit_transform(df['Tags'])"
      ],
      "execution_count": 33,
      "outputs": []
    },
    {
      "cell_type": "code",
      "metadata": {
        "id": "rAMLNd6-ZU39",
        "colab": {
          "base_uri": "https://localhost:8080/"
        },
        "outputId": "12e93949-4fb4-4622-8b87-3487b3c48052"
      },
      "source": [
        "y"
      ],
      "execution_count": 34,
      "outputs": [
        {
          "output_type": "execute_result",
          "data": {
            "text/plain": [
              "array([[0, 0, 0, 1, 1, 0, 0],\n",
              "       [0, 0, 0, 0, 0, 1, 1],\n",
              "       [0, 0, 0, 1, 0, 1, 0],\n",
              "       [1, 0, 0, 0, 0, 1, 0],\n",
              "       [1, 0, 0, 0, 1, 0, 0],\n",
              "       [0, 0, 0, 0, 1, 0, 1],\n",
              "       [0, 1, 0, 0, 0, 1, 0],\n",
              "       [0, 1, 0, 0, 1, 0, 0],\n",
              "       [1, 0, 0, 0, 1, 0, 0],\n",
              "       [0, 0, 0, 0, 0, 1, 1],\n",
              "       [1, 0, 0, 0, 0, 1, 0],\n",
              "       [0, 0, 0, 0, 0, 1, 1],\n",
              "       [1, 0, 0, 0, 1, 0, 0],\n",
              "       [0, 1, 0, 0, 0, 1, 0],\n",
              "       [1, 0, 0, 0, 1, 0, 0],\n",
              "       [0, 0, 0, 0, 1, 0, 1],\n",
              "       [0, 0, 1, 0, 0, 0, 0],\n",
              "       [0, 0, 0, 0, 0, 1, 1],\n",
              "       [0, 1, 0, 0, 0, 1, 0],\n",
              "       [0, 0, 0, 0, 1, 0, 1],\n",
              "       [0, 0, 0, 1, 0, 1, 0],\n",
              "       [0, 0, 0, 0, 1, 0, 1],\n",
              "       [0, 0, 0, 1, 1, 0, 0],\n",
              "       [0, 0, 0, 1, 0, 1, 0],\n",
              "       [1, 0, 0, 0, 0, 1, 0],\n",
              "       [0, 0, 0, 1, 1, 0, 0],\n",
              "       [0, 1, 0, 0, 1, 0, 0],\n",
              "       [0, 0, 0, 1, 0, 1, 0],\n",
              "       [0, 1, 0, 0, 1, 0, 0],\n",
              "       [0, 1, 0, 0, 0, 1, 0],\n",
              "       [1, 0, 0, 0, 0, 1, 0],\n",
              "       [0, 0, 0, 1, 1, 0, 0],\n",
              "       [0, 1, 0, 0, 0, 1, 0],\n",
              "       [1, 0, 0, 0, 0, 1, 0],\n",
              "       [0, 0, 0, 0, 1, 0, 1],\n",
              "       [0, 0, 0, 1, 0, 1, 0],\n",
              "       [0, 1, 0, 0, 1, 0, 0],\n",
              "       [1, 0, 0, 0, 1, 0, 0],\n",
              "       [0, 0, 0, 0, 0, 1, 1],\n",
              "       [0, 0, 0, 1, 1, 0, 0],\n",
              "       [0, 1, 0, 0, 0, 1, 0],\n",
              "       [1, 0, 0, 0, 0, 1, 0],\n",
              "       [0, 0, 0, 0, 1, 0, 1],\n",
              "       [0, 0, 0, 1, 0, 1, 0],\n",
              "       [0, 1, 0, 0, 1, 0, 0],\n",
              "       [1, 0, 0, 0, 1, 0, 0],\n",
              "       [0, 0, 0, 0, 0, 1, 1],\n",
              "       [0, 0, 0, 1, 1, 0, 0],\n",
              "       [0, 1, 0, 0, 0, 1, 0],\n",
              "       [1, 0, 0, 0, 0, 1, 0],\n",
              "       [0, 0, 0, 0, 1, 0, 1],\n",
              "       [0, 0, 0, 1, 0, 1, 0],\n",
              "       [0, 1, 0, 0, 1, 0, 0],\n",
              "       [1, 0, 0, 0, 1, 0, 0],\n",
              "       [0, 0, 0, 0, 0, 1, 1],\n",
              "       [0, 0, 0, 1, 1, 0, 0],\n",
              "       [0, 1, 0, 0, 0, 1, 0],\n",
              "       [1, 0, 0, 0, 0, 1, 0],\n",
              "       [0, 0, 0, 0, 1, 0, 1],\n",
              "       [0, 0, 0, 1, 0, 1, 0],\n",
              "       [0, 1, 0, 0, 1, 0, 0],\n",
              "       [1, 0, 0, 0, 1, 0, 0],\n",
              "       [0, 0, 0, 0, 0, 1, 1],\n",
              "       [0, 0, 0, 1, 1, 0, 0]])"
            ]
          },
          "metadata": {
            "tags": []
          },
          "execution_count": 34
        }
      ]
    },
    {
      "cell_type": "code",
      "metadata": {
        "id": "I0RRZIQcZU-k",
        "colab": {
          "base_uri": "https://localhost:8080/"
        },
        "outputId": "e34ca231-0725-4db9-bac3-766d44e0099a"
      },
      "source": [
        "multilabel.classes_"
      ],
      "execution_count": 35,
      "outputs": [
        {
          "output_type": "execute_result",
          "data": {
            "text/plain": [
              "array(['Login Failure', 'Password error', 'Password errorSeverity High',\n",
              "       'Payment Failure', 'Severity High', 'Severity Low', 'UX/UI'],\n",
              "      dtype=object)"
            ]
          },
          "metadata": {
            "tags": []
          },
          "execution_count": 35
        }
      ]
    },
    {
      "cell_type": "code",
      "metadata": {
        "id": "G0MsLupzZU88",
        "colab": {
          "base_uri": "https://localhost:8080/",
          "height": 419
        },
        "outputId": "4a299504-6851-485b-cfab-aa8db89b061f"
      },
      "source": [
        "pd.DataFrame(y, columns=multilabel.classes_)"
      ],
      "execution_count": 36,
      "outputs": [
        {
          "output_type": "execute_result",
          "data": {
            "text/html": [
              "<div>\n",
              "<style scoped>\n",
              "    .dataframe tbody tr th:only-of-type {\n",
              "        vertical-align: middle;\n",
              "    }\n",
              "\n",
              "    .dataframe tbody tr th {\n",
              "        vertical-align: top;\n",
              "    }\n",
              "\n",
              "    .dataframe thead th {\n",
              "        text-align: right;\n",
              "    }\n",
              "</style>\n",
              "<table border=\"1\" class=\"dataframe\">\n",
              "  <thead>\n",
              "    <tr style=\"text-align: right;\">\n",
              "      <th></th>\n",
              "      <th>Login Failure</th>\n",
              "      <th>Password error</th>\n",
              "      <th>Password errorSeverity High</th>\n",
              "      <th>Payment Failure</th>\n",
              "      <th>Severity High</th>\n",
              "      <th>Severity Low</th>\n",
              "      <th>UX/UI</th>\n",
              "    </tr>\n",
              "  </thead>\n",
              "  <tbody>\n",
              "    <tr>\n",
              "      <th>0</th>\n",
              "      <td>0</td>\n",
              "      <td>0</td>\n",
              "      <td>0</td>\n",
              "      <td>1</td>\n",
              "      <td>1</td>\n",
              "      <td>0</td>\n",
              "      <td>0</td>\n",
              "    </tr>\n",
              "    <tr>\n",
              "      <th>1</th>\n",
              "      <td>0</td>\n",
              "      <td>0</td>\n",
              "      <td>0</td>\n",
              "      <td>0</td>\n",
              "      <td>0</td>\n",
              "      <td>1</td>\n",
              "      <td>1</td>\n",
              "    </tr>\n",
              "    <tr>\n",
              "      <th>2</th>\n",
              "      <td>0</td>\n",
              "      <td>0</td>\n",
              "      <td>0</td>\n",
              "      <td>1</td>\n",
              "      <td>0</td>\n",
              "      <td>1</td>\n",
              "      <td>0</td>\n",
              "    </tr>\n",
              "    <tr>\n",
              "      <th>3</th>\n",
              "      <td>1</td>\n",
              "      <td>0</td>\n",
              "      <td>0</td>\n",
              "      <td>0</td>\n",
              "      <td>0</td>\n",
              "      <td>1</td>\n",
              "      <td>0</td>\n",
              "    </tr>\n",
              "    <tr>\n",
              "      <th>4</th>\n",
              "      <td>1</td>\n",
              "      <td>0</td>\n",
              "      <td>0</td>\n",
              "      <td>0</td>\n",
              "      <td>1</td>\n",
              "      <td>0</td>\n",
              "      <td>0</td>\n",
              "    </tr>\n",
              "    <tr>\n",
              "      <th>...</th>\n",
              "      <td>...</td>\n",
              "      <td>...</td>\n",
              "      <td>...</td>\n",
              "      <td>...</td>\n",
              "      <td>...</td>\n",
              "      <td>...</td>\n",
              "      <td>...</td>\n",
              "    </tr>\n",
              "    <tr>\n",
              "      <th>59</th>\n",
              "      <td>0</td>\n",
              "      <td>0</td>\n",
              "      <td>0</td>\n",
              "      <td>1</td>\n",
              "      <td>0</td>\n",
              "      <td>1</td>\n",
              "      <td>0</td>\n",
              "    </tr>\n",
              "    <tr>\n",
              "      <th>60</th>\n",
              "      <td>0</td>\n",
              "      <td>1</td>\n",
              "      <td>0</td>\n",
              "      <td>0</td>\n",
              "      <td>1</td>\n",
              "      <td>0</td>\n",
              "      <td>0</td>\n",
              "    </tr>\n",
              "    <tr>\n",
              "      <th>61</th>\n",
              "      <td>1</td>\n",
              "      <td>0</td>\n",
              "      <td>0</td>\n",
              "      <td>0</td>\n",
              "      <td>1</td>\n",
              "      <td>0</td>\n",
              "      <td>0</td>\n",
              "    </tr>\n",
              "    <tr>\n",
              "      <th>62</th>\n",
              "      <td>0</td>\n",
              "      <td>0</td>\n",
              "      <td>0</td>\n",
              "      <td>0</td>\n",
              "      <td>0</td>\n",
              "      <td>1</td>\n",
              "      <td>1</td>\n",
              "    </tr>\n",
              "    <tr>\n",
              "      <th>63</th>\n",
              "      <td>0</td>\n",
              "      <td>0</td>\n",
              "      <td>0</td>\n",
              "      <td>1</td>\n",
              "      <td>1</td>\n",
              "      <td>0</td>\n",
              "      <td>0</td>\n",
              "    </tr>\n",
              "  </tbody>\n",
              "</table>\n",
              "<p>64 rows × 7 columns</p>\n",
              "</div>"
            ],
            "text/plain": [
              "    Login Failure  Password error  ...  Severity Low  UX/UI\n",
              "0               0               0  ...             0      0\n",
              "1               0               0  ...             1      1\n",
              "2               0               0  ...             1      0\n",
              "3               1               0  ...             1      0\n",
              "4               1               0  ...             0      0\n",
              "..            ...             ...  ...           ...    ...\n",
              "59              0               0  ...             1      0\n",
              "60              0               1  ...             0      0\n",
              "61              1               0  ...             0      0\n",
              "62              0               0  ...             1      1\n",
              "63              0               0  ...             0      0\n",
              "\n",
              "[64 rows x 7 columns]"
            ]
          },
          "metadata": {
            "tags": []
          },
          "execution_count": 36
        }
      ]
    },
    {
      "cell_type": "code",
      "metadata": {
        "id": "vD5DbxTvZU1U"
      },
      "source": [
        "# lets say you have -> l,e,t,s, , "
      ],
      "execution_count": 19,
      "outputs": []
    },
    {
      "cell_type": "code",
      "metadata": {
        "id": "6DzxRxHRZUyW",
        "colab": {
          "base_uri": "https://localhost:8080/"
        },
        "outputId": "8f478e2d-97cc-4bf6-c3fa-966bf36b5995"
      },
      "source": [
        "tfidf = TfidfVectorizer(analyzer='word', max_features=10000, ngram_range=(1,3), stop_words='english')\n",
        "X = tfidf.fit_transform(df['Text'])\n",
        "X.shape"
      ],
      "execution_count": 37,
      "outputs": [
        {
          "output_type": "execute_result",
          "data": {
            "text/plain": [
              "(64, 362)"
            ]
          },
          "metadata": {
            "tags": []
          },
          "execution_count": 37
        }
      ]
    },
    {
      "cell_type": "code",
      "metadata": {
        "id": "ufY_2Ihbj-yw"
      },
      "source": [
        "pickle.dump(tfidf, open(\"/content/tfidf.pkl\",\"wb\"))"
      ],
      "execution_count": 38,
      "outputs": []
    },
    {
      "cell_type": "code",
      "metadata": {
        "id": "sDUPZKTrj3_m"
      },
      "source": [
        "# tfidf = TfidfVectorizer()\n",
        "# X = tfidf.fit_transform(df_cleaned['total'])\n",
        "# X.shape"
      ],
      "execution_count": 168,
      "outputs": []
    },
    {
      "cell_type": "code",
      "metadata": {
        "id": "XC3iZ_YeZUw_",
        "colab": {
          "base_uri": "https://localhost:8080/"
        },
        "outputId": "37aeda39-8ea7-43fb-e106-a54a68e85270"
      },
      "source": [
        "X"
      ],
      "execution_count": 39,
      "outputs": [
        {
          "output_type": "execute_result",
          "data": {
            "text/plain": [
              "<64x362 sparse matrix of type '<class 'numpy.float64'>'\n",
              "\twith 639 stored elements in Compressed Sparse Row format>"
            ]
          },
          "metadata": {
            "tags": []
          },
          "execution_count": 39
        }
      ]
    },
    {
      "cell_type": "code",
      "metadata": {
        "id": "UZbkzr95ZUvQ"
      },
      "source": [
        "# tfidf.vocabulary_"
      ],
      "execution_count": 40,
      "outputs": []
    },
    {
      "cell_type": "code",
      "metadata": {
        "id": "Yd6lRL5oZUob",
        "colab": {
          "base_uri": "https://localhost:8080/"
        },
        "outputId": "299d7030-5046-4b92-8f81-9d46eb36caec"
      },
      "source": [
        "X.shape, y.shape"
      ],
      "execution_count": 41,
      "outputs": [
        {
          "output_type": "execute_result",
          "data": {
            "text/plain": [
              "((64, 362), (64, 7))"
            ]
          },
          "metadata": {
            "tags": []
          },
          "execution_count": 41
        }
      ]
    },
    {
      "cell_type": "code",
      "metadata": {
        "id": "wU2iZfzJbG3j"
      },
      "source": [
        "X_train, X_test, y_train, y_test = train_test_split(X, y, test_size = 0.02, random_state = 0)"
      ],
      "execution_count": 42,
      "outputs": []
    },
    {
      "cell_type": "code",
      "metadata": {
        "id": "EXIiaUNXbg3D"
      },
      "source": [
        ""
      ],
      "execution_count": 26,
      "outputs": []
    },
    {
      "cell_type": "markdown",
      "metadata": {
        "id": "C7uD7jjucL6X"
      },
      "source": [
        "# Build Model"
      ]
    },
    {
      "cell_type": "code",
      "metadata": {
        "id": "ohkgqwV2cK2F"
      },
      "source": [
        "sgd = SGDClassifier()\n",
        "lr = LogisticRegression(solver='lbfgs')\n",
        "svc = LinearSVC()"
      ],
      "execution_count": 43,
      "outputs": []
    },
    {
      "cell_type": "code",
      "metadata": {
        "id": "C_2MEqP6eKl0"
      },
      "source": [
        "def j_score(y_true, y_pred):\n",
        "  jaccard = np.minimum(y_true, y_pred).sum(axis = 1)/np.maximum(y_true, y_pred).sum(axis = 1)\n",
        "  return jaccard.mean()*100\n",
        "\n",
        "\n",
        "def print_score(y_pred, clf):\n",
        "  print(\"Clf: \", clf.__class__.__name__)\n",
        "  print('Jacard score: {}'.format(j_score(y_test, y_pred)))\n",
        "  print('----')"
      ],
      "execution_count": 44,
      "outputs": []
    },
    {
      "cell_type": "code",
      "metadata": {
        "id": "YLpLcXonjhOC",
        "colab": {
          "base_uri": "https://localhost:8080/"
        },
        "outputId": "cbc5bbbc-b89c-48b8-f9bb-355ba89de371"
      },
      "source": [
        "for classifier in [LinearSVC(C=1.5, penalty = 'l1', dual=False)]:\n",
        "  clf = OneVsRestClassifier(classifier)\n",
        "  clf.fit(X_train, y_train)\n",
        "  y_pred = clf.predict(X_test)\n",
        "  print_score(y_pred, classifier)"
      ],
      "execution_count": 45,
      "outputs": [
        {
          "output_type": "stream",
          "text": [
            "Clf:  LinearSVC\n",
            "Jacard score: 100.0\n",
            "----\n"
          ],
          "name": "stdout"
        }
      ]
    },
    {
      "cell_type": "code",
      "metadata": {
        "id": "V0Vj7stLcLMv",
        "colab": {
          "base_uri": "https://localhost:8080/"
        },
        "outputId": "d097ffe2-0de1-47b4-ddec-38cf66ccaae9"
      },
      "source": [
        "for classifier in [sgd, lr, svc]:\n",
        "  clf = OneVsRestClassifier(classifier)\n",
        "  clf.fit(X_train, y_train)\n",
        "  y_pred = clf.predict(X_test)\n",
        "  print_score(y_pred, classifier)\n",
        "  \n"
      ],
      "execution_count": 46,
      "outputs": [
        {
          "output_type": "stream",
          "text": [
            "Clf:  SGDClassifier\n",
            "Jacard score: 41.666666666666664\n",
            "----\n",
            "Clf:  LogisticRegression\n",
            "Jacard score: 75.0\n",
            "----\n",
            "Clf:  LinearSVC\n",
            "Jacard score: 100.0\n",
            "----\n"
          ],
          "name": "stdout"
        }
      ]
    },
    {
      "cell_type": "markdown",
      "metadata": {
        "id": "JQPA8AZphHBj"
      },
      "source": [
        "## Model Test with Real Data"
      ]
    },
    {
      "cell_type": "code",
      "metadata": {
        "colab": {
          "base_uri": "https://localhost:8080/"
        },
        "id": "UPZB9ytdMonD",
        "outputId": "5db2faac-47ab-4f2b-8270-6a295d12c8dc"
      },
      "source": [
        "import joblib\n",
        "joblib.dump(clf, \"/content/modelfinal.pkl\")"
      ],
      "execution_count": 47,
      "outputs": [
        {
          "output_type": "execute_result",
          "data": {
            "text/plain": [
              "['/content/modelfinal.pkl']"
            ]
          },
          "metadata": {
            "tags": []
          },
          "execution_count": 47
        }
      ]
    },
    {
      "cell_type": "code",
      "metadata": {
        "id": "FtE4nF_HmKJp"
      },
      "source": [
        "multilabel = MultiLabelBinarizer()\n",
        "y = multilabel.fit_transform(df['Tags'])\n",
        "#inverse_transform\n",
        "z=multilabel.inverse_transform(y)\n",
        "pickle.dump(multilabel, open(\"/content/multilabel.pkl\",\"wb\"))"
      ],
      "execution_count": 48,
      "outputs": []
    },
    {
      "cell_type": "code",
      "metadata": {
        "id": "mzqNYKF2NWFP"
      },
      "source": [
        "loaded_model = joblib.load(\"/content/modelfinal.pkl\")"
      ],
      "execution_count": 49,
      "outputs": []
    },
    {
      "cell_type": "code",
      "metadata": {
        "id": "Z8I5mjj2lEza"
      },
      "source": [
        "tfid = joblib.load(\"/content/tfidf.pkl\")"
      ],
      "execution_count": 50,
      "outputs": []
    },
    {
      "cell_type": "code",
      "metadata": {
        "id": "xpcHyqU4nO0r"
      },
      "source": [
        "inv = joblib.load(\"/content/multilabel.pkl\")"
      ],
      "execution_count": 51,
      "outputs": []
    },
    {
      "cell_type": "code",
      "metadata": {
        "id": "nTV8_LuucK5e"
      },
      "source": [
        "x = ['not able to create a password']"
      ],
      "execution_count": 64,
      "outputs": []
    },
    {
      "cell_type": "code",
      "metadata": {
        "id": "9yCJOALGQWto"
      },
      "source": [
        "xt = tfid.transform(x)"
      ],
      "execution_count": 65,
      "outputs": []
    },
    {
      "cell_type": "code",
      "metadata": {
        "colab": {
          "base_uri": "https://localhost:8080/"
        },
        "id": "YyHDxv7kQaFz",
        "outputId": "51026756-5d37-488d-9105-720437cec387"
      },
      "source": [
        "loaded_model.predict(xt)"
      ],
      "execution_count": 66,
      "outputs": [
        {
          "output_type": "execute_result",
          "data": {
            "text/plain": [
              "array([[0, 1, 0, 0, 0, 1, 0]])"
            ]
          },
          "metadata": {
            "tags": []
          },
          "execution_count": 66
        }
      ]
    },
    {
      "cell_type": "code",
      "metadata": {
        "colab": {
          "base_uri": "https://localhost:8080/"
        },
        "id": "dYmU_CUxQjOg",
        "outputId": "60300a96-50d4-4ba5-e445-7441f4cf76c1"
      },
      "source": [
        "inv.inverse_transform(loaded_model.predict(xt))"
      ],
      "execution_count": 67,
      "outputs": [
        {
          "output_type": "execute_result",
          "data": {
            "text/plain": [
              "[('Password error', 'Severity Low')]"
            ]
          },
          "metadata": {
            "tags": []
          },
          "execution_count": 67
        }
      ]
    }
  ]
}